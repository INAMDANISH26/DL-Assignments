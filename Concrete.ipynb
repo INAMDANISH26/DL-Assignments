{
  "nbformat": 4,
  "nbformat_minor": 0,
  "metadata": {
    "accelerator": "TPU",
    "colab": {
      "name": "Concrete.ipynb",
      "provenance": [],
      "collapsed_sections": []
    },
    "kernelspec": {
      "display_name": "Python 3",
      "language": "python",
      "name": "python3"
    },
    "language_info": {
      "codemirror_mode": {
        "name": "ipython",
        "version": 3
      },
      "file_extension": ".py",
      "mimetype": "text/x-python",
      "name": "python",
      "nbconvert_exporter": "python",
      "pygments_lexer": "ipython3",
      "version": "3.9.2"
    }
  },
  "cells": [
    {
      "cell_type": "markdown",
      "metadata": {
        "id": "CgPkafcBClHA"
      },
      "source": [
        "#Importing Libraries"
      ]
    },
    {
      "cell_type": "code",
      "metadata": {
        "colab": {
          "base_uri": "https://localhost:8080/"
        },
        "id": "q-PYp10rGZJW",
        "outputId": "2820ee91-d5f7-485b-d795-978108153a34"
      },
      "source": [
        "from google.colab import drive\n",
        "drive.mount('/content/drive')"
      ],
      "execution_count": 1,
      "outputs": [
        {
          "output_type": "stream",
          "text": [
            "Mounted at /content/drive\n"
          ],
          "name": "stdout"
        }
      ]
    },
    {
      "cell_type": "code",
      "metadata": {
        "id": "NipDpuvkCmi6"
      },
      "source": [
        "import pandas as pd\n",
        "import numpy as np\n",
        "import matplotlib.pyplot as plt"
      ],
      "execution_count": 2,
      "outputs": []
    },
    {
      "cell_type": "markdown",
      "metadata": {
        "id": "UxC9ci-KDQoW"
      },
      "source": [
        "#Uploading Datasets"
      ]
    },
    {
      "cell_type": "code",
      "metadata": {
        "id": "B_vpinNiCxTc"
      },
      "source": [
        "data=pd.read_csv(\"/content/drive/MyDrive/compresive_strength_concrete.csv\")"
      ],
      "execution_count": 3,
      "outputs": []
    },
    {
      "cell_type": "code",
      "metadata": {
        "colab": {
          "base_uri": "https://localhost:8080/"
        },
        "id": "VcJwnsAHIgRW",
        "outputId": "b6a3f12e-8c34-46c7-9edd-bc067295037c"
      },
      "source": [
        "data.shape"
      ],
      "execution_count": 4,
      "outputs": [
        {
          "output_type": "execute_result",
          "data": {
            "text/plain": [
              "(1030, 9)"
            ]
          },
          "metadata": {
            "tags": []
          },
          "execution_count": 4
        }
      ]
    },
    {
      "cell_type": "code",
      "metadata": {
        "colab": {
          "base_uri": "https://localhost:8080/",
          "height": 326
        },
        "id": "U0yFP1M6Ikh-",
        "outputId": "93baa8a7-539b-403b-a7bd-e427435d22b8"
      },
      "source": [
        "data.head()"
      ],
      "execution_count": 5,
      "outputs": [
        {
          "output_type": "execute_result",
          "data": {
            "text/html": [
              "<div>\n",
              "<style scoped>\n",
              "    .dataframe tbody tr th:only-of-type {\n",
              "        vertical-align: middle;\n",
              "    }\n",
              "\n",
              "    .dataframe tbody tr th {\n",
              "        vertical-align: top;\n",
              "    }\n",
              "\n",
              "    .dataframe thead th {\n",
              "        text-align: right;\n",
              "    }\n",
              "</style>\n",
              "<table border=\"1\" class=\"dataframe\">\n",
              "  <thead>\n",
              "    <tr style=\"text-align: right;\">\n",
              "      <th></th>\n",
              "      <th>Cement (component 1)(kg in a m^3 mixture)</th>\n",
              "      <th>Blast Furnace Slag (component 2)(kg in a m^3 mixture)</th>\n",
              "      <th>Fly Ash (component 3)(kg in a m^3 mixture)</th>\n",
              "      <th>Water  (component 4)(kg in a m^3 mixture)</th>\n",
              "      <th>Superplasticizer (component 5)(kg in a m^3 mixture)</th>\n",
              "      <th>Coarse Aggregate  (component 6)(kg in a m^3 mixture)</th>\n",
              "      <th>Fine Aggregate (component 7)(kg in a m^3 mixture)</th>\n",
              "      <th>Age (day)</th>\n",
              "      <th>Concrete compressive strength(MPa, megapascals)</th>\n",
              "    </tr>\n",
              "  </thead>\n",
              "  <tbody>\n",
              "    <tr>\n",
              "      <th>0</th>\n",
              "      <td>540.0</td>\n",
              "      <td>0.0</td>\n",
              "      <td>0.0</td>\n",
              "      <td>162.0</td>\n",
              "      <td>2.5</td>\n",
              "      <td>1040.0</td>\n",
              "      <td>676.0</td>\n",
              "      <td>28</td>\n",
              "      <td>79.99</td>\n",
              "    </tr>\n",
              "    <tr>\n",
              "      <th>1</th>\n",
              "      <td>540.0</td>\n",
              "      <td>0.0</td>\n",
              "      <td>0.0</td>\n",
              "      <td>162.0</td>\n",
              "      <td>2.5</td>\n",
              "      <td>1055.0</td>\n",
              "      <td>676.0</td>\n",
              "      <td>28</td>\n",
              "      <td>61.89</td>\n",
              "    </tr>\n",
              "    <tr>\n",
              "      <th>2</th>\n",
              "      <td>332.5</td>\n",
              "      <td>142.5</td>\n",
              "      <td>0.0</td>\n",
              "      <td>228.0</td>\n",
              "      <td>0.0</td>\n",
              "      <td>932.0</td>\n",
              "      <td>594.0</td>\n",
              "      <td>270</td>\n",
              "      <td>40.27</td>\n",
              "    </tr>\n",
              "    <tr>\n",
              "      <th>3</th>\n",
              "      <td>332.5</td>\n",
              "      <td>142.5</td>\n",
              "      <td>0.0</td>\n",
              "      <td>228.0</td>\n",
              "      <td>0.0</td>\n",
              "      <td>932.0</td>\n",
              "      <td>594.0</td>\n",
              "      <td>365</td>\n",
              "      <td>41.05</td>\n",
              "    </tr>\n",
              "    <tr>\n",
              "      <th>4</th>\n",
              "      <td>198.6</td>\n",
              "      <td>132.4</td>\n",
              "      <td>0.0</td>\n",
              "      <td>192.0</td>\n",
              "      <td>0.0</td>\n",
              "      <td>978.4</td>\n",
              "      <td>825.5</td>\n",
              "      <td>360</td>\n",
              "      <td>44.30</td>\n",
              "    </tr>\n",
              "  </tbody>\n",
              "</table>\n",
              "</div>"
            ],
            "text/plain": [
              "   Cement (component 1)(kg in a m^3 mixture)  ...  Concrete compressive strength(MPa, megapascals) \n",
              "0                                      540.0  ...                                             79.99\n",
              "1                                      540.0  ...                                             61.89\n",
              "2                                      332.5  ...                                             40.27\n",
              "3                                      332.5  ...                                             41.05\n",
              "4                                      198.6  ...                                             44.30\n",
              "\n",
              "[5 rows x 9 columns]"
            ]
          },
          "metadata": {
            "tags": []
          },
          "execution_count": 5
        }
      ]
    },
    {
      "cell_type": "code",
      "metadata": {
        "colab": {
          "base_uri": "https://localhost:8080/"
        },
        "id": "-CnNp0vJGPwm",
        "outputId": "2fe97679-edb4-4376-a7cf-87693b447352"
      },
      "source": [
        "data.isnull().sum()"
      ],
      "execution_count": 6,
      "outputs": [
        {
          "output_type": "execute_result",
          "data": {
            "text/plain": [
              "Cement (component 1)(kg in a m^3 mixture)                0\n",
              "Blast Furnace Slag (component 2)(kg in a m^3 mixture)    0\n",
              "Fly Ash (component 3)(kg in a m^3 mixture)               0\n",
              "Water  (component 4)(kg in a m^3 mixture)                0\n",
              "Superplasticizer (component 5)(kg in a m^3 mixture)      0\n",
              "Coarse Aggregate  (component 6)(kg in a m^3 mixture)     0\n",
              "Fine Aggregate (component 7)(kg in a m^3 mixture)        0\n",
              "Age (day)                                                0\n",
              "Concrete compressive strength(MPa, megapascals)          0\n",
              "dtype: int64"
            ]
          },
          "metadata": {
            "tags": []
          },
          "execution_count": 6
        }
      ]
    },
    {
      "cell_type": "code",
      "metadata": {
        "colab": {
          "base_uri": "https://localhost:8080/"
        },
        "id": "DrgUv9_BGPwr",
        "outputId": "f4d05bf4-4d73-49d7-c2cd-3f3e019bd321"
      },
      "source": [
        "np.where(data.applymap(lambda x: x == ''))"
      ],
      "execution_count": 7,
      "outputs": [
        {
          "output_type": "execute_result",
          "data": {
            "text/plain": [
              "(array([], dtype=int64), array([], dtype=int64))"
            ]
          },
          "metadata": {
            "tags": []
          },
          "execution_count": 7
        }
      ]
    },
    {
      "cell_type": "code",
      "metadata": {
        "id": "dCqTZt4jGPwt"
      },
      "source": [
        "X_train = data.sample(frac = 0.7, random_state = 123)\n",
        "X_test = data.drop(X_train.index)"
      ],
      "execution_count": 8,
      "outputs": []
    },
    {
      "cell_type": "code",
      "metadata": {
        "colab": {
          "base_uri": "https://localhost:8080/",
          "height": 326
        },
        "id": "O0gdt1BGGPwt",
        "outputId": "b97c4f69-65c5-4f2f-ae6b-aa8ab41e8b5e"
      },
      "source": [
        "X_train.head()"
      ],
      "execution_count": 9,
      "outputs": [
        {
          "output_type": "execute_result",
          "data": {
            "text/html": [
              "<div>\n",
              "<style scoped>\n",
              "    .dataframe tbody tr th:only-of-type {\n",
              "        vertical-align: middle;\n",
              "    }\n",
              "\n",
              "    .dataframe tbody tr th {\n",
              "        vertical-align: top;\n",
              "    }\n",
              "\n",
              "    .dataframe thead th {\n",
              "        text-align: right;\n",
              "    }\n",
              "</style>\n",
              "<table border=\"1\" class=\"dataframe\">\n",
              "  <thead>\n",
              "    <tr style=\"text-align: right;\">\n",
              "      <th></th>\n",
              "      <th>Cement (component 1)(kg in a m^3 mixture)</th>\n",
              "      <th>Blast Furnace Slag (component 2)(kg in a m^3 mixture)</th>\n",
              "      <th>Fly Ash (component 3)(kg in a m^3 mixture)</th>\n",
              "      <th>Water  (component 4)(kg in a m^3 mixture)</th>\n",
              "      <th>Superplasticizer (component 5)(kg in a m^3 mixture)</th>\n",
              "      <th>Coarse Aggregate  (component 6)(kg in a m^3 mixture)</th>\n",
              "      <th>Fine Aggregate (component 7)(kg in a m^3 mixture)</th>\n",
              "      <th>Age (day)</th>\n",
              "      <th>Concrete compressive strength(MPa, megapascals)</th>\n",
              "    </tr>\n",
              "  </thead>\n",
              "  <tbody>\n",
              "    <tr>\n",
              "      <th>134</th>\n",
              "      <td>362.6</td>\n",
              "      <td>189.0</td>\n",
              "      <td>0.0</td>\n",
              "      <td>164.9</td>\n",
              "      <td>11.6</td>\n",
              "      <td>944.7</td>\n",
              "      <td>755.8</td>\n",
              "      <td>28</td>\n",
              "      <td>71.30</td>\n",
              "    </tr>\n",
              "    <tr>\n",
              "      <th>13</th>\n",
              "      <td>190.0</td>\n",
              "      <td>190.0</td>\n",
              "      <td>0.0</td>\n",
              "      <td>228.0</td>\n",
              "      <td>0.0</td>\n",
              "      <td>932.0</td>\n",
              "      <td>670.0</td>\n",
              "      <td>90</td>\n",
              "      <td>42.33</td>\n",
              "    </tr>\n",
              "    <tr>\n",
              "      <th>996</th>\n",
              "      <td>152.6</td>\n",
              "      <td>238.7</td>\n",
              "      <td>0.0</td>\n",
              "      <td>200.0</td>\n",
              "      <td>6.3</td>\n",
              "      <td>1001.8</td>\n",
              "      <td>683.9</td>\n",
              "      <td>28</td>\n",
              "      <td>26.86</td>\n",
              "    </tr>\n",
              "    <tr>\n",
              "      <th>770</th>\n",
              "      <td>349.0</td>\n",
              "      <td>0.0</td>\n",
              "      <td>0.0</td>\n",
              "      <td>192.0</td>\n",
              "      <td>0.0</td>\n",
              "      <td>1047.0</td>\n",
              "      <td>806.0</td>\n",
              "      <td>3</td>\n",
              "      <td>14.99</td>\n",
              "    </tr>\n",
              "    <tr>\n",
              "      <th>937</th>\n",
              "      <td>313.3</td>\n",
              "      <td>0.0</td>\n",
              "      <td>113.0</td>\n",
              "      <td>178.5</td>\n",
              "      <td>8.0</td>\n",
              "      <td>1001.9</td>\n",
              "      <td>688.7</td>\n",
              "      <td>28</td>\n",
              "      <td>36.80</td>\n",
              "    </tr>\n",
              "  </tbody>\n",
              "</table>\n",
              "</div>"
            ],
            "text/plain": [
              "     Cement (component 1)(kg in a m^3 mixture)  ...  Concrete compressive strength(MPa, megapascals) \n",
              "134                                      362.6  ...                                             71.30\n",
              "13                                       190.0  ...                                             42.33\n",
              "996                                      152.6  ...                                             26.86\n",
              "770                                      349.0  ...                                             14.99\n",
              "937                                      313.3  ...                                             36.80\n",
              "\n",
              "[5 rows x 9 columns]"
            ]
          },
          "metadata": {
            "tags": []
          },
          "execution_count": 9
        }
      ]
    },
    {
      "cell_type": "markdown",
      "metadata": {
        "id": "CcvbbUpmJFCi"
      },
      "source": [
        "#Assigning features and target variable"
      ]
    },
    {
      "cell_type": "code",
      "metadata": {
        "id": "OTv_VabYIj83"
      },
      "source": [
        "Y_train = X_train.iloc[:,-1]\n",
        "X_train = X_train.iloc[:,0:-1]\n",
        "Y_test = X_test.iloc[:,-1]\n",
        "X_test = X_test.iloc[:,0:-1]"
      ],
      "execution_count": 10,
      "outputs": []
    },
    {
      "cell_type": "code",
      "metadata": {
        "id": "KHF-Yeo2JTyg"
      },
      "source": [
        "X_mean = X_train.mean()\n",
        "X_train -= X_mean\n",
        "X_std = X_train.std()\n",
        "X_train /= X_std\n",
        "X_test -= X_mean\n",
        "X_test /= X_std"
      ],
      "execution_count": 11,
      "outputs": []
    },
    {
      "cell_type": "code",
      "metadata": {
        "id": "tAETTrB0GPwv"
      },
      "source": [
        "Y_mean = Y_train.mean()\n",
        "Y_train -= Y_mean\n",
        "Y_std = Y_train.std()\n",
        "Y_train /= Y_std\n",
        "Y_test -= Y_mean\n",
        "Y_test /= Y_std"
      ],
      "execution_count": 12,
      "outputs": []
    },
    {
      "cell_type": "code",
      "metadata": {
        "colab": {
          "base_uri": "https://localhost:8080/"
        },
        "id": "0gl8P8EQGPww",
        "outputId": "16a3be29-2bf8-4736-ca93-418f0176cc06"
      },
      "source": [
        "X_train.dtypes"
      ],
      "execution_count": 13,
      "outputs": [
        {
          "output_type": "execute_result",
          "data": {
            "text/plain": [
              "Cement (component 1)(kg in a m^3 mixture)                float64\n",
              "Blast Furnace Slag (component 2)(kg in a m^3 mixture)    float64\n",
              "Fly Ash (component 3)(kg in a m^3 mixture)               float64\n",
              "Water  (component 4)(kg in a m^3 mixture)                float64\n",
              "Superplasticizer (component 5)(kg in a m^3 mixture)      float64\n",
              "Coarse Aggregate  (component 6)(kg in a m^3 mixture)     float64\n",
              "Fine Aggregate (component 7)(kg in a m^3 mixture)        float64\n",
              "Age (day)                                                float64\n",
              "dtype: object"
            ]
          },
          "metadata": {
            "tags": []
          },
          "execution_count": 13
        }
      ]
    },
    {
      "cell_type": "code",
      "metadata": {
        "id": "E9bJ5HUcGPww"
      },
      "source": [
        "X_train = X_train.to_numpy()\n",
        "Y_train = Y_train.to_numpy()\n",
        "X_test = X_test.to_numpy()\n",
        "Y_test = Y_test.to_numpy()\n"
      ],
      "execution_count": 14,
      "outputs": []
    },
    {
      "cell_type": "markdown",
      "metadata": {
        "id": "Lj_iCk5vL5E7"
      },
      "source": [
        "#Training and testing data splittion"
      ]
    },
    {
      "cell_type": "markdown",
      "metadata": {
        "id": "_LMH3tMeMbXN"
      },
      "source": [
        "#Model selection"
      ]
    },
    {
      "cell_type": "code",
      "metadata": {
        "id": "N71E3GgCMTCO"
      },
      "source": [
        "from tensorflow.keras import layers as L\n",
        "from tensorflow.keras import models as M"
      ],
      "execution_count": 15,
      "outputs": []
    },
    {
      "cell_type": "code",
      "metadata": {
        "id": "PZIj7pgIMhcg"
      },
      "source": [
        "network = M.Sequential()"
      ],
      "execution_count": 16,
      "outputs": []
    },
    {
      "cell_type": "code",
      "metadata": {
        "id": "jcIypzdFMrDX"
      },
      "source": [
        "network.add(L.Dense(128,activation=\"relu\",input_shape=(X_train.shape[1],)))"
      ],
      "execution_count": 17,
      "outputs": []
    },
    {
      "cell_type": "code",
      "metadata": {
        "id": "gl8qko4FM3j4"
      },
      "source": [
        "network.add(L.Dense(64,activation=\"relu\"))"
      ],
      "execution_count": 18,
      "outputs": []
    },
    {
      "cell_type": "code",
      "metadata": {
        "id": "LQ2VEXd9M8Uw"
      },
      "source": [
        "network.add(L.Dense(32,activation=\"relu\"))"
      ],
      "execution_count": 19,
      "outputs": []
    },
    {
      "cell_type": "code",
      "metadata": {
        "id": "yWUmN_KvNCno"
      },
      "source": [
        "network.add(L.Dense(1))"
      ],
      "execution_count": 20,
      "outputs": []
    },
    {
      "cell_type": "code",
      "metadata": {
        "id": "zSyeoyk0Nsa2"
      },
      "source": [
        "network.compile(optimizer=\"rmsprop\",loss=[\"mse\"],metrics=[\"mae\"])"
      ],
      "execution_count": 23,
      "outputs": []
    },
    {
      "cell_type": "code",
      "metadata": {
        "colab": {
          "base_uri": "https://localhost:8080/"
        },
        "id": "E8cCCFviOKuF",
        "outputId": "d32766eb-2e4d-4865-f2f1-55e7fb2f89d0"
      },
      "source": [
        "history = network.fit(X_train,Y_train,epochs=200,validation_split=0.3, batch_size = 16)"
      ],
      "execution_count": 24,
      "outputs": [
        {
          "output_type": "stream",
          "text": [
            "Epoch 1/200\n",
            "32/32 [==============================] - 1s 17ms/step - loss: 0.7650 - mae: 0.6783 - val_loss: 0.4633 - val_mae: 0.5463\n",
            "Epoch 2/200\n",
            "32/32 [==============================] - 0s 3ms/step - loss: 0.3566 - mae: 0.4767 - val_loss: 0.3468 - val_mae: 0.4614\n",
            "Epoch 3/200\n",
            "32/32 [==============================] - 0s 3ms/step - loss: 0.2242 - mae: 0.3730 - val_loss: 0.2709 - val_mae: 0.3969\n",
            "Epoch 4/200\n",
            "32/32 [==============================] - 0s 3ms/step - loss: 0.1929 - mae: 0.3380 - val_loss: 0.2502 - val_mae: 0.3812\n",
            "Epoch 5/200\n",
            "32/32 [==============================] - 0s 3ms/step - loss: 0.1630 - mae: 0.3136 - val_loss: 0.2380 - val_mae: 0.3590\n",
            "Epoch 6/200\n",
            "32/32 [==============================] - 0s 3ms/step - loss: 0.1451 - mae: 0.2960 - val_loss: 0.2474 - val_mae: 0.3631\n",
            "Epoch 7/200\n",
            "32/32 [==============================] - 0s 3ms/step - loss: 0.1256 - mae: 0.2778 - val_loss: 0.2513 - val_mae: 0.3836\n",
            "Epoch 8/200\n",
            "32/32 [==============================] - 0s 3ms/step - loss: 0.1338 - mae: 0.2859 - val_loss: 0.3474 - val_mae: 0.4351\n",
            "Epoch 9/200\n",
            "32/32 [==============================] - 0s 3ms/step - loss: 0.1155 - mae: 0.2532 - val_loss: 0.1942 - val_mae: 0.3339\n",
            "Epoch 10/200\n",
            "32/32 [==============================] - 0s 3ms/step - loss: 0.0959 - mae: 0.2397 - val_loss: 0.2461 - val_mae: 0.4079\n",
            "Epoch 11/200\n",
            "32/32 [==============================] - 0s 3ms/step - loss: 0.0914 - mae: 0.2308 - val_loss: 0.2240 - val_mae: 0.3644\n",
            "Epoch 12/200\n",
            "32/32 [==============================] - 0s 3ms/step - loss: 0.0990 - mae: 0.2322 - val_loss: 0.1849 - val_mae: 0.3281\n",
            "Epoch 13/200\n",
            "32/32 [==============================] - 0s 3ms/step - loss: 0.0881 - mae: 0.2280 - val_loss: 0.1735 - val_mae: 0.3073\n",
            "Epoch 14/200\n",
            "32/32 [==============================] - 0s 3ms/step - loss: 0.0758 - mae: 0.2163 - val_loss: 0.2134 - val_mae: 0.3431\n",
            "Epoch 15/200\n",
            "32/32 [==============================] - 0s 3ms/step - loss: 0.0857 - mae: 0.2237 - val_loss: 0.1754 - val_mae: 0.3104\n",
            "Epoch 16/200\n",
            "32/32 [==============================] - 0s 3ms/step - loss: 0.0770 - mae: 0.2082 - val_loss: 0.1989 - val_mae: 0.3491\n",
            "Epoch 17/200\n",
            "32/32 [==============================] - 0s 3ms/step - loss: 0.0783 - mae: 0.2142 - val_loss: 0.1948 - val_mae: 0.3231\n",
            "Epoch 18/200\n",
            "32/32 [==============================] - 0s 3ms/step - loss: 0.0699 - mae: 0.2015 - val_loss: 0.1634 - val_mae: 0.3026\n",
            "Epoch 19/200\n",
            "32/32 [==============================] - 0s 3ms/step - loss: 0.0707 - mae: 0.2037 - val_loss: 0.1657 - val_mae: 0.3049\n",
            "Epoch 20/200\n",
            "32/32 [==============================] - 0s 3ms/step - loss: 0.0711 - mae: 0.2014 - val_loss: 0.1589 - val_mae: 0.3004\n",
            "Epoch 21/200\n",
            "32/32 [==============================] - 0s 4ms/step - loss: 0.0618 - mae: 0.1852 - val_loss: 0.1602 - val_mae: 0.3000\n",
            "Epoch 22/200\n",
            "32/32 [==============================] - 0s 3ms/step - loss: 0.0576 - mae: 0.1816 - val_loss: 0.1421 - val_mae: 0.2902\n",
            "Epoch 23/200\n",
            "32/32 [==============================] - 0s 3ms/step - loss: 0.0523 - mae: 0.1731 - val_loss: 0.1583 - val_mae: 0.2902\n",
            "Epoch 24/200\n",
            "32/32 [==============================] - 0s 3ms/step - loss: 0.0583 - mae: 0.1871 - val_loss: 0.1615 - val_mae: 0.2997\n",
            "Epoch 25/200\n",
            "32/32 [==============================] - 0s 3ms/step - loss: 0.0603 - mae: 0.1833 - val_loss: 0.1767 - val_mae: 0.3165\n",
            "Epoch 26/200\n",
            "32/32 [==============================] - 0s 3ms/step - loss: 0.0649 - mae: 0.1932 - val_loss: 0.1521 - val_mae: 0.2906\n",
            "Epoch 27/200\n",
            "32/32 [==============================] - 0s 3ms/step - loss: 0.0491 - mae: 0.1695 - val_loss: 0.1462 - val_mae: 0.2864\n",
            "Epoch 28/200\n",
            "32/32 [==============================] - 0s 3ms/step - loss: 0.0585 - mae: 0.1814 - val_loss: 0.1426 - val_mae: 0.2863\n",
            "Epoch 29/200\n",
            "32/32 [==============================] - 0s 3ms/step - loss: 0.0570 - mae: 0.1792 - val_loss: 0.2139 - val_mae: 0.3378\n",
            "Epoch 30/200\n",
            "32/32 [==============================] - 0s 3ms/step - loss: 0.0613 - mae: 0.1819 - val_loss: 0.1442 - val_mae: 0.2813\n",
            "Epoch 31/200\n",
            "32/32 [==============================] - 0s 3ms/step - loss: 0.0493 - mae: 0.1691 - val_loss: 0.1586 - val_mae: 0.2938\n",
            "Epoch 32/200\n",
            "32/32 [==============================] - 0s 3ms/step - loss: 0.0518 - mae: 0.1775 - val_loss: 0.1849 - val_mae: 0.3262\n",
            "Epoch 33/200\n",
            "32/32 [==============================] - 0s 3ms/step - loss: 0.0627 - mae: 0.1900 - val_loss: 0.1338 - val_mae: 0.2769\n",
            "Epoch 34/200\n",
            "32/32 [==============================] - 0s 3ms/step - loss: 0.0498 - mae: 0.1710 - val_loss: 0.1671 - val_mae: 0.3082\n",
            "Epoch 35/200\n",
            "32/32 [==============================] - 0s 3ms/step - loss: 0.0575 - mae: 0.1781 - val_loss: 0.1664 - val_mae: 0.3155\n",
            "Epoch 36/200\n",
            "32/32 [==============================] - 0s 3ms/step - loss: 0.0586 - mae: 0.1855 - val_loss: 0.1444 - val_mae: 0.2924\n",
            "Epoch 37/200\n",
            "32/32 [==============================] - 0s 3ms/step - loss: 0.0427 - mae: 0.1560 - val_loss: 0.1449 - val_mae: 0.2832\n",
            "Epoch 38/200\n",
            "32/32 [==============================] - 0s 3ms/step - loss: 0.0533 - mae: 0.1736 - val_loss: 0.1400 - val_mae: 0.2851\n",
            "Epoch 39/200\n",
            "32/32 [==============================] - 0s 3ms/step - loss: 0.0464 - mae: 0.1620 - val_loss: 0.1465 - val_mae: 0.2864\n",
            "Epoch 40/200\n",
            "32/32 [==============================] - 0s 3ms/step - loss: 0.0495 - mae: 0.1693 - val_loss: 0.1722 - val_mae: 0.3031\n",
            "Epoch 41/200\n",
            "32/32 [==============================] - 0s 3ms/step - loss: 0.0521 - mae: 0.1695 - val_loss: 0.1339 - val_mae: 0.2757\n",
            "Epoch 42/200\n",
            "32/32 [==============================] - 0s 3ms/step - loss: 0.0403 - mae: 0.1574 - val_loss: 0.1472 - val_mae: 0.2879\n",
            "Epoch 43/200\n",
            "32/32 [==============================] - 0s 3ms/step - loss: 0.0443 - mae: 0.1509 - val_loss: 0.1660 - val_mae: 0.2934\n",
            "Epoch 44/200\n",
            "32/32 [==============================] - 0s 3ms/step - loss: 0.0429 - mae: 0.1553 - val_loss: 0.1347 - val_mae: 0.2684\n",
            "Epoch 45/200\n",
            "32/32 [==============================] - 0s 3ms/step - loss: 0.0425 - mae: 0.1444 - val_loss: 0.1283 - val_mae: 0.2718\n",
            "Epoch 46/200\n",
            "32/32 [==============================] - 0s 3ms/step - loss: 0.0495 - mae: 0.1577 - val_loss: 0.1733 - val_mae: 0.3186\n",
            "Epoch 47/200\n",
            "32/32 [==============================] - 0s 3ms/step - loss: 0.0432 - mae: 0.1521 - val_loss: 0.1420 - val_mae: 0.2814\n",
            "Epoch 48/200\n",
            "32/32 [==============================] - 0s 3ms/step - loss: 0.0359 - mae: 0.1365 - val_loss: 0.1331 - val_mae: 0.2767\n",
            "Epoch 49/200\n",
            "32/32 [==============================] - 0s 3ms/step - loss: 0.0454 - mae: 0.1619 - val_loss: 0.1547 - val_mae: 0.2882\n",
            "Epoch 50/200\n",
            "32/32 [==============================] - 0s 3ms/step - loss: 0.0454 - mae: 0.1561 - val_loss: 0.1332 - val_mae: 0.2691\n",
            "Epoch 51/200\n",
            "32/32 [==============================] - 0s 3ms/step - loss: 0.0458 - mae: 0.1585 - val_loss: 0.1396 - val_mae: 0.2753\n",
            "Epoch 52/200\n",
            "32/32 [==============================] - 0s 3ms/step - loss: 0.0393 - mae: 0.1476 - val_loss: 0.1273 - val_mae: 0.2613\n",
            "Epoch 53/200\n",
            "32/32 [==============================] - 0s 3ms/step - loss: 0.0379 - mae: 0.1499 - val_loss: 0.1302 - val_mae: 0.2668\n",
            "Epoch 54/200\n",
            "32/32 [==============================] - 0s 3ms/step - loss: 0.0374 - mae: 0.1400 - val_loss: 0.1288 - val_mae: 0.2632\n",
            "Epoch 55/200\n",
            "32/32 [==============================] - 0s 3ms/step - loss: 0.0341 - mae: 0.1342 - val_loss: 0.1465 - val_mae: 0.2880\n",
            "Epoch 56/200\n",
            "32/32 [==============================] - 0s 3ms/step - loss: 0.0383 - mae: 0.1475 - val_loss: 0.1230 - val_mae: 0.2571\n",
            "Epoch 57/200\n",
            "32/32 [==============================] - 0s 3ms/step - loss: 0.0296 - mae: 0.1258 - val_loss: 0.1288 - val_mae: 0.2571\n",
            "Epoch 58/200\n",
            "32/32 [==============================] - 0s 3ms/step - loss: 0.0339 - mae: 0.1346 - val_loss: 0.1259 - val_mae: 0.2617\n",
            "Epoch 59/200\n",
            "32/32 [==============================] - 0s 3ms/step - loss: 0.0365 - mae: 0.1391 - val_loss: 0.1291 - val_mae: 0.2655\n",
            "Epoch 60/200\n",
            "32/32 [==============================] - 0s 3ms/step - loss: 0.0422 - mae: 0.1483 - val_loss: 0.1239 - val_mae: 0.2576\n",
            "Epoch 61/200\n",
            "32/32 [==============================] - 0s 3ms/step - loss: 0.0392 - mae: 0.1454 - val_loss: 0.1364 - val_mae: 0.2735\n",
            "Epoch 62/200\n",
            "32/32 [==============================] - 0s 3ms/step - loss: 0.0273 - mae: 0.1239 - val_loss: 0.1425 - val_mae: 0.2735\n",
            "Epoch 63/200\n",
            "32/32 [==============================] - 0s 3ms/step - loss: 0.0382 - mae: 0.1436 - val_loss: 0.1284 - val_mae: 0.2644\n",
            "Epoch 64/200\n",
            "32/32 [==============================] - 0s 3ms/step - loss: 0.0353 - mae: 0.1355 - val_loss: 0.1350 - val_mae: 0.2645\n",
            "Epoch 65/200\n",
            "32/32 [==============================] - 0s 3ms/step - loss: 0.0507 - mae: 0.1521 - val_loss: 0.1250 - val_mae: 0.2555\n",
            "Epoch 66/200\n",
            "32/32 [==============================] - 0s 3ms/step - loss: 0.0367 - mae: 0.1438 - val_loss: 0.1317 - val_mae: 0.2579\n",
            "Epoch 67/200\n",
            "32/32 [==============================] - 0s 3ms/step - loss: 0.0374 - mae: 0.1399 - val_loss: 0.1242 - val_mae: 0.2606\n",
            "Epoch 68/200\n",
            "32/32 [==============================] - 0s 3ms/step - loss: 0.0354 - mae: 0.1346 - val_loss: 0.1148 - val_mae: 0.2453\n",
            "Epoch 69/200\n",
            "32/32 [==============================] - 0s 3ms/step - loss: 0.0343 - mae: 0.1319 - val_loss: 0.1273 - val_mae: 0.2632\n",
            "Epoch 70/200\n",
            "32/32 [==============================] - 0s 3ms/step - loss: 0.0326 - mae: 0.1317 - val_loss: 0.1376 - val_mae: 0.2752\n",
            "Epoch 71/200\n",
            "32/32 [==============================] - 0s 3ms/step - loss: 0.0395 - mae: 0.1436 - val_loss: 0.1248 - val_mae: 0.2602\n",
            "Epoch 72/200\n",
            "32/32 [==============================] - 0s 4ms/step - loss: 0.0337 - mae: 0.1314 - val_loss: 0.1295 - val_mae: 0.2581\n",
            "Epoch 73/200\n",
            "32/32 [==============================] - 0s 3ms/step - loss: 0.0356 - mae: 0.1371 - val_loss: 0.1191 - val_mae: 0.2553\n",
            "Epoch 74/200\n",
            "32/32 [==============================] - 0s 3ms/step - loss: 0.0363 - mae: 0.1358 - val_loss: 0.1349 - val_mae: 0.2673\n",
            "Epoch 75/200\n",
            "32/32 [==============================] - 0s 3ms/step - loss: 0.0312 - mae: 0.1285 - val_loss: 0.1359 - val_mae: 0.2640\n",
            "Epoch 76/200\n",
            "32/32 [==============================] - 0s 3ms/step - loss: 0.0356 - mae: 0.1365 - val_loss: 0.1306 - val_mae: 0.2557\n",
            "Epoch 77/200\n",
            "32/32 [==============================] - 0s 3ms/step - loss: 0.0391 - mae: 0.1357 - val_loss: 0.1376 - val_mae: 0.2877\n",
            "Epoch 78/200\n",
            "32/32 [==============================] - 0s 3ms/step - loss: 0.0281 - mae: 0.1256 - val_loss: 0.1450 - val_mae: 0.2756\n",
            "Epoch 79/200\n",
            "32/32 [==============================] - 0s 3ms/step - loss: 0.0386 - mae: 0.1399 - val_loss: 0.1231 - val_mae: 0.2520\n",
            "Epoch 80/200\n",
            "32/32 [==============================] - 0s 3ms/step - loss: 0.0331 - mae: 0.1284 - val_loss: 0.1208 - val_mae: 0.2483\n",
            "Epoch 81/200\n",
            "32/32 [==============================] - 0s 3ms/step - loss: 0.0310 - mae: 0.1288 - val_loss: 0.1229 - val_mae: 0.2564\n",
            "Epoch 82/200\n",
            "32/32 [==============================] - 0s 3ms/step - loss: 0.0273 - mae: 0.1233 - val_loss: 0.1250 - val_mae: 0.2620\n",
            "Epoch 83/200\n",
            "32/32 [==============================] - 0s 3ms/step - loss: 0.0342 - mae: 0.1254 - val_loss: 0.1172 - val_mae: 0.2471\n",
            "Epoch 84/200\n",
            "32/32 [==============================] - 0s 3ms/step - loss: 0.0312 - mae: 0.1277 - val_loss: 0.1369 - val_mae: 0.2766\n",
            "Epoch 85/200\n",
            "32/32 [==============================] - 0s 3ms/step - loss: 0.0359 - mae: 0.1352 - val_loss: 0.1251 - val_mae: 0.2539\n",
            "Epoch 86/200\n",
            "32/32 [==============================] - 0s 3ms/step - loss: 0.0354 - mae: 0.1288 - val_loss: 0.1481 - val_mae: 0.2858\n",
            "Epoch 87/200\n",
            "32/32 [==============================] - 0s 3ms/step - loss: 0.0281 - mae: 0.1215 - val_loss: 0.1332 - val_mae: 0.2714\n",
            "Epoch 88/200\n",
            "32/32 [==============================] - 0s 3ms/step - loss: 0.0284 - mae: 0.1248 - val_loss: 0.1208 - val_mae: 0.2570\n",
            "Epoch 89/200\n",
            "32/32 [==============================] - 0s 3ms/step - loss: 0.0330 - mae: 0.1342 - val_loss: 0.1179 - val_mae: 0.2523\n",
            "Epoch 90/200\n",
            "32/32 [==============================] - 0s 3ms/step - loss: 0.0264 - mae: 0.1177 - val_loss: 0.1367 - val_mae: 0.2706\n",
            "Epoch 91/200\n",
            "32/32 [==============================] - 0s 3ms/step - loss: 0.0315 - mae: 0.1267 - val_loss: 0.1175 - val_mae: 0.2448\n",
            "Epoch 92/200\n",
            "32/32 [==============================] - 0s 3ms/step - loss: 0.0348 - mae: 0.1291 - val_loss: 0.1393 - val_mae: 0.2752\n",
            "Epoch 93/200\n",
            "32/32 [==============================] - 0s 3ms/step - loss: 0.0432 - mae: 0.1389 - val_loss: 0.1365 - val_mae: 0.2719\n",
            "Epoch 94/200\n",
            "32/32 [==============================] - 0s 3ms/step - loss: 0.0325 - mae: 0.1297 - val_loss: 0.1187 - val_mae: 0.2500\n",
            "Epoch 95/200\n",
            "32/32 [==============================] - 0s 3ms/step - loss: 0.0295 - mae: 0.1191 - val_loss: 0.1291 - val_mae: 0.2622\n",
            "Epoch 96/200\n",
            "32/32 [==============================] - 0s 3ms/step - loss: 0.0248 - mae: 0.1095 - val_loss: 0.1519 - val_mae: 0.2825\n",
            "Epoch 97/200\n",
            "32/32 [==============================] - 0s 3ms/step - loss: 0.0386 - mae: 0.1391 - val_loss: 0.1254 - val_mae: 0.2538\n",
            "Epoch 98/200\n",
            "32/32 [==============================] - 0s 3ms/step - loss: 0.0272 - mae: 0.1175 - val_loss: 0.1360 - val_mae: 0.2699\n",
            "Epoch 99/200\n",
            "32/32 [==============================] - 0s 3ms/step - loss: 0.0370 - mae: 0.1384 - val_loss: 0.1223 - val_mae: 0.2567\n",
            "Epoch 100/200\n",
            "32/32 [==============================] - 0s 3ms/step - loss: 0.0223 - mae: 0.1123 - val_loss: 0.1247 - val_mae: 0.2531\n",
            "Epoch 101/200\n",
            "32/32 [==============================] - 0s 3ms/step - loss: 0.0334 - mae: 0.1264 - val_loss: 0.1229 - val_mae: 0.2449\n",
            "Epoch 102/200\n",
            "32/32 [==============================] - 0s 3ms/step - loss: 0.0298 - mae: 0.1141 - val_loss: 0.1162 - val_mae: 0.2465\n",
            "Epoch 103/200\n",
            "32/32 [==============================] - 0s 3ms/step - loss: 0.0247 - mae: 0.1093 - val_loss: 0.1290 - val_mae: 0.2593\n",
            "Epoch 104/200\n",
            "32/32 [==============================] - 0s 3ms/step - loss: 0.0315 - mae: 0.1264 - val_loss: 0.1253 - val_mae: 0.2537\n",
            "Epoch 105/200\n",
            "32/32 [==============================] - 0s 3ms/step - loss: 0.0305 - mae: 0.1273 - val_loss: 0.1341 - val_mae: 0.2666\n",
            "Epoch 106/200\n",
            "32/32 [==============================] - 0s 3ms/step - loss: 0.0246 - mae: 0.1091 - val_loss: 0.1360 - val_mae: 0.2694\n",
            "Epoch 107/200\n",
            "32/32 [==============================] - 0s 3ms/step - loss: 0.0296 - mae: 0.1193 - val_loss: 0.1222 - val_mae: 0.2502\n",
            "Epoch 108/200\n",
            "32/32 [==============================] - 0s 3ms/step - loss: 0.0275 - mae: 0.1145 - val_loss: 0.1363 - val_mae: 0.2698\n",
            "Epoch 109/200\n",
            "32/32 [==============================] - 0s 4ms/step - loss: 0.0273 - mae: 0.1092 - val_loss: 0.1406 - val_mae: 0.2679\n",
            "Epoch 110/200\n",
            "32/32 [==============================] - 0s 3ms/step - loss: 0.0336 - mae: 0.1239 - val_loss: 0.1293 - val_mae: 0.2630\n",
            "Epoch 111/200\n",
            "32/32 [==============================] - 0s 3ms/step - loss: 0.0267 - mae: 0.1199 - val_loss: 0.1296 - val_mae: 0.2544\n",
            "Epoch 112/200\n",
            "32/32 [==============================] - 0s 3ms/step - loss: 0.0248 - mae: 0.1159 - val_loss: 0.1166 - val_mae: 0.2566\n",
            "Epoch 113/200\n",
            "32/32 [==============================] - 0s 3ms/step - loss: 0.0283 - mae: 0.1202 - val_loss: 0.1204 - val_mae: 0.2428\n",
            "Epoch 114/200\n",
            "32/32 [==============================] - 0s 3ms/step - loss: 0.0266 - mae: 0.1183 - val_loss: 0.1475 - val_mae: 0.2755\n",
            "Epoch 115/200\n",
            "32/32 [==============================] - 0s 3ms/step - loss: 0.0254 - mae: 0.1166 - val_loss: 0.1183 - val_mae: 0.2452\n",
            "Epoch 116/200\n",
            "32/32 [==============================] - 0s 3ms/step - loss: 0.0229 - mae: 0.1048 - val_loss: 0.1174 - val_mae: 0.2463\n",
            "Epoch 117/200\n",
            "32/32 [==============================] - 0s 3ms/step - loss: 0.0246 - mae: 0.1074 - val_loss: 0.1288 - val_mae: 0.2561\n",
            "Epoch 118/200\n",
            "32/32 [==============================] - 0s 3ms/step - loss: 0.0275 - mae: 0.1182 - val_loss: 0.1329 - val_mae: 0.2622\n",
            "Epoch 119/200\n",
            "32/32 [==============================] - 0s 3ms/step - loss: 0.0301 - mae: 0.1173 - val_loss: 0.1504 - val_mae: 0.2848\n",
            "Epoch 120/200\n",
            "32/32 [==============================] - 0s 3ms/step - loss: 0.0256 - mae: 0.1170 - val_loss: 0.1154 - val_mae: 0.2427\n",
            "Epoch 121/200\n",
            "32/32 [==============================] - 0s 3ms/step - loss: 0.0269 - mae: 0.1136 - val_loss: 0.1146 - val_mae: 0.2463\n",
            "Epoch 122/200\n",
            "32/32 [==============================] - 0s 3ms/step - loss: 0.0277 - mae: 0.1148 - val_loss: 0.1240 - val_mae: 0.2513\n",
            "Epoch 123/200\n",
            "32/32 [==============================] - 0s 3ms/step - loss: 0.0217 - mae: 0.1033 - val_loss: 0.1296 - val_mae: 0.2593\n",
            "Epoch 124/200\n",
            "32/32 [==============================] - 0s 3ms/step - loss: 0.0248 - mae: 0.1104 - val_loss: 0.1349 - val_mae: 0.2597\n",
            "Epoch 125/200\n",
            "32/32 [==============================] - 0s 3ms/step - loss: 0.0331 - mae: 0.1258 - val_loss: 0.1226 - val_mae: 0.2491\n",
            "Epoch 126/200\n",
            "32/32 [==============================] - 0s 3ms/step - loss: 0.0229 - mae: 0.1087 - val_loss: 0.1176 - val_mae: 0.2452\n",
            "Epoch 127/200\n",
            "32/32 [==============================] - 0s 3ms/step - loss: 0.0261 - mae: 0.1095 - val_loss: 0.1261 - val_mae: 0.2529\n",
            "Epoch 128/200\n",
            "32/32 [==============================] - 0s 3ms/step - loss: 0.0245 - mae: 0.1097 - val_loss: 0.1199 - val_mae: 0.2449\n",
            "Epoch 129/200\n",
            "32/32 [==============================] - 0s 3ms/step - loss: 0.0282 - mae: 0.1118 - val_loss: 0.1235 - val_mae: 0.2553\n",
            "Epoch 130/200\n",
            "32/32 [==============================] - 0s 3ms/step - loss: 0.0241 - mae: 0.1080 - val_loss: 0.1421 - val_mae: 0.2742\n",
            "Epoch 131/200\n",
            "32/32 [==============================] - 0s 3ms/step - loss: 0.0241 - mae: 0.1075 - val_loss: 0.1411 - val_mae: 0.2678\n",
            "Epoch 132/200\n",
            "32/32 [==============================] - 0s 3ms/step - loss: 0.0319 - mae: 0.1254 - val_loss: 0.1138 - val_mae: 0.2357\n",
            "Epoch 133/200\n",
            "32/32 [==============================] - 0s 3ms/step - loss: 0.0273 - mae: 0.1104 - val_loss: 0.1275 - val_mae: 0.2676\n",
            "Epoch 134/200\n",
            "32/32 [==============================] - 0s 3ms/step - loss: 0.0231 - mae: 0.1043 - val_loss: 0.1155 - val_mae: 0.2451\n",
            "Epoch 135/200\n",
            "32/32 [==============================] - 0s 3ms/step - loss: 0.0189 - mae: 0.0991 - val_loss: 0.1211 - val_mae: 0.2473\n",
            "Epoch 136/200\n",
            "32/32 [==============================] - 0s 3ms/step - loss: 0.0198 - mae: 0.1017 - val_loss: 0.1340 - val_mae: 0.2682\n",
            "Epoch 137/200\n",
            "32/32 [==============================] - 0s 3ms/step - loss: 0.0216 - mae: 0.0983 - val_loss: 0.1257 - val_mae: 0.2598\n",
            "Epoch 138/200\n",
            "32/32 [==============================] - 0s 3ms/step - loss: 0.0203 - mae: 0.1007 - val_loss: 0.1192 - val_mae: 0.2476\n",
            "Epoch 139/200\n",
            "32/32 [==============================] - 0s 3ms/step - loss: 0.0242 - mae: 0.1105 - val_loss: 0.1203 - val_mae: 0.2440\n",
            "Epoch 140/200\n",
            "32/32 [==============================] - 0s 3ms/step - loss: 0.0218 - mae: 0.1016 - val_loss: 0.1318 - val_mae: 0.2668\n",
            "Epoch 141/200\n",
            "32/32 [==============================] - 0s 3ms/step - loss: 0.0289 - mae: 0.1141 - val_loss: 0.1229 - val_mae: 0.2427\n",
            "Epoch 142/200\n",
            "32/32 [==============================] - 0s 3ms/step - loss: 0.0191 - mae: 0.0974 - val_loss: 0.1181 - val_mae: 0.2554\n",
            "Epoch 143/200\n",
            "32/32 [==============================] - 0s 3ms/step - loss: 0.0252 - mae: 0.1126 - val_loss: 0.1136 - val_mae: 0.2418\n",
            "Epoch 144/200\n",
            "32/32 [==============================] - 0s 3ms/step - loss: 0.0222 - mae: 0.1012 - val_loss: 0.1161 - val_mae: 0.2489\n",
            "Epoch 145/200\n",
            "32/32 [==============================] - 0s 3ms/step - loss: 0.0156 - mae: 0.0900 - val_loss: 0.1176 - val_mae: 0.2454\n",
            "Epoch 146/200\n",
            "32/32 [==============================] - 0s 3ms/step - loss: 0.0294 - mae: 0.1189 - val_loss: 0.1310 - val_mae: 0.2619\n",
            "Epoch 147/200\n",
            "32/32 [==============================] - 0s 3ms/step - loss: 0.0236 - mae: 0.1073 - val_loss: 0.1201 - val_mae: 0.2529\n",
            "Epoch 148/200\n",
            "32/32 [==============================] - 0s 3ms/step - loss: 0.0195 - mae: 0.0999 - val_loss: 0.1191 - val_mae: 0.2524\n",
            "Epoch 149/200\n",
            "32/32 [==============================] - 0s 3ms/step - loss: 0.0251 - mae: 0.1073 - val_loss: 0.1256 - val_mae: 0.2611\n",
            "Epoch 150/200\n",
            "32/32 [==============================] - 0s 3ms/step - loss: 0.0220 - mae: 0.0993 - val_loss: 0.1217 - val_mae: 0.2521\n",
            "Epoch 151/200\n",
            "32/32 [==============================] - 0s 3ms/step - loss: 0.0263 - mae: 0.1021 - val_loss: 0.1215 - val_mae: 0.2514\n",
            "Epoch 152/200\n",
            "32/32 [==============================] - 0s 3ms/step - loss: 0.0215 - mae: 0.1049 - val_loss: 0.1132 - val_mae: 0.2379\n",
            "Epoch 153/200\n",
            "32/32 [==============================] - 0s 3ms/step - loss: 0.0203 - mae: 0.0994 - val_loss: 0.1253 - val_mae: 0.2537\n",
            "Epoch 154/200\n",
            "32/32 [==============================] - 0s 4ms/step - loss: 0.0200 - mae: 0.0980 - val_loss: 0.1207 - val_mae: 0.2369\n",
            "Epoch 155/200\n",
            "32/32 [==============================] - 0s 3ms/step - loss: 0.0176 - mae: 0.0949 - val_loss: 0.1290 - val_mae: 0.2517\n",
            "Epoch 156/200\n",
            "32/32 [==============================] - 0s 3ms/step - loss: 0.0276 - mae: 0.1103 - val_loss: 0.1378 - val_mae: 0.2776\n",
            "Epoch 157/200\n",
            "32/32 [==============================] - 0s 3ms/step - loss: 0.0197 - mae: 0.1034 - val_loss: 0.1154 - val_mae: 0.2428\n",
            "Epoch 158/200\n",
            "32/32 [==============================] - 0s 3ms/step - loss: 0.0210 - mae: 0.1042 - val_loss: 0.1269 - val_mae: 0.2544\n",
            "Epoch 159/200\n",
            "32/32 [==============================] - 0s 3ms/step - loss: 0.0217 - mae: 0.0995 - val_loss: 0.1165 - val_mae: 0.2429\n",
            "Epoch 160/200\n",
            "32/32 [==============================] - 0s 3ms/step - loss: 0.0259 - mae: 0.1083 - val_loss: 0.1215 - val_mae: 0.2442\n",
            "Epoch 161/200\n",
            "32/32 [==============================] - 0s 3ms/step - loss: 0.0196 - mae: 0.0972 - val_loss: 0.1161 - val_mae: 0.2445\n",
            "Epoch 162/200\n",
            "32/32 [==============================] - 0s 3ms/step - loss: 0.0241 - mae: 0.1004 - val_loss: 0.1128 - val_mae: 0.2393\n",
            "Epoch 163/200\n",
            "32/32 [==============================] - 0s 3ms/step - loss: 0.0179 - mae: 0.0896 - val_loss: 0.1537 - val_mae: 0.2990\n",
            "Epoch 164/200\n",
            "32/32 [==============================] - 0s 3ms/step - loss: 0.0267 - mae: 0.1094 - val_loss: 0.1152 - val_mae: 0.2416\n",
            "Epoch 165/200\n",
            "32/32 [==============================] - 0s 3ms/step - loss: 0.0179 - mae: 0.0938 - val_loss: 0.1225 - val_mae: 0.2616\n",
            "Epoch 166/200\n",
            "32/32 [==============================] - 0s 3ms/step - loss: 0.0238 - mae: 0.0996 - val_loss: 0.1140 - val_mae: 0.2379\n",
            "Epoch 167/200\n",
            "32/32 [==============================] - 0s 3ms/step - loss: 0.0246 - mae: 0.1029 - val_loss: 0.1224 - val_mae: 0.2511\n",
            "Epoch 168/200\n",
            "32/32 [==============================] - 0s 3ms/step - loss: 0.0231 - mae: 0.0972 - val_loss: 0.1220 - val_mae: 0.2529\n",
            "Epoch 169/200\n",
            "32/32 [==============================] - 0s 3ms/step - loss: 0.0191 - mae: 0.0935 - val_loss: 0.1341 - val_mae: 0.2734\n",
            "Epoch 170/200\n",
            "32/32 [==============================] - 0s 3ms/step - loss: 0.0220 - mae: 0.1012 - val_loss: 0.1153 - val_mae: 0.2432\n",
            "Epoch 171/200\n",
            "32/32 [==============================] - 0s 3ms/step - loss: 0.0237 - mae: 0.1034 - val_loss: 0.1193 - val_mae: 0.2569\n",
            "Epoch 172/200\n",
            "32/32 [==============================] - 0s 3ms/step - loss: 0.0186 - mae: 0.0975 - val_loss: 0.1335 - val_mae: 0.2565\n",
            "Epoch 173/200\n",
            "32/32 [==============================] - 0s 3ms/step - loss: 0.0184 - mae: 0.0928 - val_loss: 0.1160 - val_mae: 0.2505\n",
            "Epoch 174/200\n",
            "32/32 [==============================] - 0s 3ms/step - loss: 0.0242 - mae: 0.1071 - val_loss: 0.1259 - val_mae: 0.2472\n",
            "Epoch 175/200\n",
            "32/32 [==============================] - 0s 3ms/step - loss: 0.0285 - mae: 0.1095 - val_loss: 0.1317 - val_mae: 0.2504\n",
            "Epoch 176/200\n",
            "32/32 [==============================] - 0s 3ms/step - loss: 0.0223 - mae: 0.1048 - val_loss: 0.1203 - val_mae: 0.2460\n",
            "Epoch 177/200\n",
            "32/32 [==============================] - 0s 3ms/step - loss: 0.0208 - mae: 0.0987 - val_loss: 0.1207 - val_mae: 0.2485\n",
            "Epoch 178/200\n",
            "32/32 [==============================] - 0s 3ms/step - loss: 0.0201 - mae: 0.0944 - val_loss: 0.1605 - val_mae: 0.2969\n",
            "Epoch 179/200\n",
            "32/32 [==============================] - 0s 3ms/step - loss: 0.0221 - mae: 0.1018 - val_loss: 0.1227 - val_mae: 0.2489\n",
            "Epoch 180/200\n",
            "32/32 [==============================] - 0s 3ms/step - loss: 0.0229 - mae: 0.0953 - val_loss: 0.1168 - val_mae: 0.2429\n",
            "Epoch 181/200\n",
            "32/32 [==============================] - 0s 3ms/step - loss: 0.0259 - mae: 0.1031 - val_loss: 0.1203 - val_mae: 0.2476\n",
            "Epoch 182/200\n",
            "32/32 [==============================] - 0s 3ms/step - loss: 0.0220 - mae: 0.0978 - val_loss: 0.1220 - val_mae: 0.2437\n",
            "Epoch 183/200\n",
            "32/32 [==============================] - 0s 3ms/step - loss: 0.0195 - mae: 0.0929 - val_loss: 0.1197 - val_mae: 0.2449\n",
            "Epoch 184/200\n",
            "32/32 [==============================] - 0s 3ms/step - loss: 0.0132 - mae: 0.0797 - val_loss: 0.1167 - val_mae: 0.2410\n",
            "Epoch 185/200\n",
            "32/32 [==============================] - 0s 3ms/step - loss: 0.0215 - mae: 0.0972 - val_loss: 0.1309 - val_mae: 0.2565\n",
            "Epoch 186/200\n",
            "32/32 [==============================] - 0s 3ms/step - loss: 0.0187 - mae: 0.0939 - val_loss: 0.1204 - val_mae: 0.2450\n",
            "Epoch 187/200\n",
            "32/32 [==============================] - 0s 3ms/step - loss: 0.0166 - mae: 0.0935 - val_loss: 0.1182 - val_mae: 0.2424\n",
            "Epoch 188/200\n",
            "32/32 [==============================] - 0s 3ms/step - loss: 0.0206 - mae: 0.0939 - val_loss: 0.1296 - val_mae: 0.2590\n",
            "Epoch 189/200\n",
            "32/32 [==============================] - 0s 3ms/step - loss: 0.0162 - mae: 0.0829 - val_loss: 0.1234 - val_mae: 0.2510\n",
            "Epoch 190/200\n",
            "32/32 [==============================] - 0s 3ms/step - loss: 0.0218 - mae: 0.1022 - val_loss: 0.1166 - val_mae: 0.2500\n",
            "Epoch 191/200\n",
            "32/32 [==============================] - 0s 3ms/step - loss: 0.0208 - mae: 0.0991 - val_loss: 0.1282 - val_mae: 0.2530\n",
            "Epoch 192/200\n",
            "32/32 [==============================] - 0s 3ms/step - loss: 0.0197 - mae: 0.0965 - val_loss: 0.1229 - val_mae: 0.2501\n",
            "Epoch 193/200\n",
            "32/32 [==============================] - 0s 3ms/step - loss: 0.0183 - mae: 0.0871 - val_loss: 0.1284 - val_mae: 0.2532\n",
            "Epoch 194/200\n",
            "32/32 [==============================] - 0s 3ms/step - loss: 0.0233 - mae: 0.0965 - val_loss: 0.1215 - val_mae: 0.2407\n",
            "Epoch 195/200\n",
            "32/32 [==============================] - 0s 3ms/step - loss: 0.0152 - mae: 0.0839 - val_loss: 0.1335 - val_mae: 0.2581\n",
            "Epoch 196/200\n",
            "32/32 [==============================] - 0s 3ms/step - loss: 0.0195 - mae: 0.0951 - val_loss: 0.1257 - val_mae: 0.2484\n",
            "Epoch 197/200\n",
            "32/32 [==============================] - 0s 3ms/step - loss: 0.0257 - mae: 0.1018 - val_loss: 0.1276 - val_mae: 0.2588\n",
            "Epoch 198/200\n",
            "32/32 [==============================] - 0s 3ms/step - loss: 0.0205 - mae: 0.0935 - val_loss: 0.1233 - val_mae: 0.2529\n",
            "Epoch 199/200\n",
            "32/32 [==============================] - 0s 3ms/step - loss: 0.0228 - mae: 0.1002 - val_loss: 0.1177 - val_mae: 0.2401\n",
            "Epoch 200/200\n",
            "32/32 [==============================] - 0s 3ms/step - loss: 0.0170 - mae: 0.0862 - val_loss: 0.1377 - val_mae: 0.2619\n"
          ],
          "name": "stdout"
        }
      ]
    },
    {
      "cell_type": "code",
      "metadata": {
        "colab": {
          "base_uri": "https://localhost:8080/"
        },
        "id": "vgGBvvqTGPw1",
        "outputId": "0b1024c4-143d-4b37-d790-b10a3bf1f362"
      },
      "source": [
        "history.history.keys()"
      ],
      "execution_count": 25,
      "outputs": [
        {
          "output_type": "execute_result",
          "data": {
            "text/plain": [
              "dict_keys(['loss', 'mae', 'val_loss', 'val_mae'])"
            ]
          },
          "metadata": {
            "tags": []
          },
          "execution_count": 25
        }
      ]
    },
    {
      "cell_type": "code",
      "metadata": {
        "colab": {
          "base_uri": "https://localhost:8080/"
        },
        "id": "Dke-NeOQtJ7Z",
        "outputId": "6b4b9977-b641-41a6-c023-78f83023215c"
      },
      "source": [
        "loss,mae=network.evaluate(X_test,Y_test)"
      ],
      "execution_count": 26,
      "outputs": [
        {
          "output_type": "stream",
          "text": [
            "10/10 [==============================] - 0s 2ms/step - loss: 0.1404 - mae: 0.2449\n"
          ],
          "name": "stdout"
        }
      ]
    },
    {
      "cell_type": "code",
      "metadata": {
        "id": "CtycpTWetRiZ"
      },
      "source": [
        "val_mae = history.history['val_mae']\n",
        "val_loss = history.history['val_loss']"
      ],
      "execution_count": 28,
      "outputs": []
    },
    {
      "cell_type": "code",
      "metadata": {
        "colab": {
          "base_uri": "https://localhost:8080/",
          "height": 295
        },
        "id": "kHHrK1plGPw2",
        "outputId": "a807b157-6e88-4ad7-be2a-5630401c71e0"
      },
      "source": [
        "import matplotlib.pyplot as plt \n",
        "history_dict = history.history\n",
        "loss_values = history_dict['loss']\n",
        "val_loss_values = history_dict['val_loss']\n",
        "epochs = range(200)\n",
        "plt.plot(epochs, loss_values, 'bo', label='Training loss')\n",
        "plt.plot(epochs, val_loss_values, 'b', label='Validation loss')\n",
        "plt.title('Training and validation loss')\n",
        "plt.xlabel('Epochs')\n",
        "plt.ylabel('Loss')\n",
        "plt.legend()\n",
        "plt.show()"
      ],
      "execution_count": 29,
      "outputs": [
        {
          "output_type": "display_data",
          "data": {
            "image/png": "[encoded data removed]",
            "text/plain": [
              "<Figure size 432x288 with 1 Axes>"
            ]
          },
          "metadata": {
            "tags": [],
            "needs_background": "light"
          }
        }
      ]
    },
    {
      "cell_type": "code",
      "metadata": {
        "colab": {
          "base_uri": "https://localhost:8080/",
          "height": 295
        },
        "id": "y2-ATv8xGPw3",
        "outputId": "9cd5ef73-2203-4a0c-f94d-1bf72b5d175b"
      },
      "source": [
        "import matplotlib.pyplot as plt \n",
        "acc_values = history_dict['mae']\n",
        "val_acc_values = history_dict['val_mae']\n",
        "plt.plot(epochs, acc_values, 'bo', label='Training mae')\n",
        "plt.plot(epochs, val_acc_values, 'b', label='Validation mae')\n",
        "plt.title('Training and validation accuracy')\n",
        "plt.xlabel('Epochs')\n",
        "plt.ylabel('mae')\n",
        "plt.legend()\n",
        "plt.show()"
      ],
      "execution_count": 30,
      "outputs": [
        {
          "output_type": "display_data",
          "data": {
            "image/png": "[encoded data removed]",
            "text/plain": [
              "<Figure size 432x288 with 1 Axes>"
            ]
          },
          "metadata": {
            "tags": [],
            "needs_background": "light"
          }
        }
      ]
    },
    {
      "cell_type": "code",
      "metadata": {
        "id": "AiZJuEX1tXIa"
      },
      "source": [
        "y_pred = network.predict(X_test)"
      ],
      "execution_count": 31,
      "outputs": []
    },
    {
      "cell_type": "code",
      "metadata": {
        "id": "OMEdm3pfGPw4"
      },
      "source": [
        "def denorm(x):\n",
        "    return (x * Y_std) + Y_mean\n",
        "    "
      ],
      "execution_count": 32,
      "outputs": []
    },
    {
      "cell_type": "code",
      "metadata": {
        "id": "HOIW3tL-GPw4"
      },
      "source": [
        "y_pred = denorm(y_pred)"
      ],
      "execution_count": 33,
      "outputs": []
    },
    {
      "cell_type": "code",
      "metadata": {
        "id": "hkPYq5cpGPw5"
      },
      "source": [
        "y_true = denorm(Y_test)"
      ],
      "execution_count": 34,
      "outputs": []
    },
    {
      "cell_type": "code",
      "metadata": {
        "id": "ooIaewhCGPw5"
      },
      "source": [
        "y_pred = y_pred.flatten()"
      ],
      "execution_count": 35,
      "outputs": []
    },
    {
      "cell_type": "code",
      "metadata": {
        "colab": {
          "base_uri": "https://localhost:8080/"
        },
        "id": "6NsTrnFBGPw5",
        "outputId": "8d33e594-0d87-486a-f52d-965efe4cee54"
      },
      "source": [
        "y_pred.shape"
      ],
      "execution_count": 36,
      "outputs": [
        {
          "output_type": "execute_result",
          "data": {
            "text/plain": [
              "(309,)"
            ]
          },
          "metadata": {
            "tags": []
          },
          "execution_count": 36
        }
      ]
    },
    {
      "cell_type": "code",
      "metadata": {
        "colab": {
          "base_uri": "https://localhost:8080/"
        },
        "id": "yS6LSYPxGPw6",
        "outputId": "edc2c3b9-80b0-42d4-b3f2-6b7764d7ac1c"
      },
      "source": [
        "y_true.shape"
      ],
      "execution_count": 37,
      "outputs": [
        {
          "output_type": "execute_result",
          "data": {
            "text/plain": [
              "(309,)"
            ]
          },
          "metadata": {
            "tags": []
          },
          "execution_count": 37
        }
      ]
    },
    {
      "cell_type": "code",
      "metadata": {
        "colab": {
          "base_uri": "https://localhost:8080/",
          "height": 286
        },
        "id": "7yMUW190GPw6",
        "outputId": "e7b87c44-72bb-41ee-b5af-a096d581dfee"
      },
      "source": [
        "import numpy as np\n",
        "import matplotlib.pyplot as plt\n",
        "coef = np.polyfit(y_true,y_pred,1)\n",
        "poly1d_fn = np.poly1d(coef) \n",
        "# poly1d_fn is now a function which takes in x and returns an estimate for y\n",
        "plt.plot(y_true,y_pred, 'yo', y_true, poly1d_fn(y_true), '--k')\n",
        "plt.xlim(0, 100)\n",
        "plt.ylim(0, 100)"
      ],
      "execution_count": 38,
      "outputs": [
        {
          "output_type": "execute_result",
          "data": {
            "text/plain": [
              "(0.0, 100.0)"
            ]
          },
          "metadata": {
            "tags": []
          },
          "execution_count": 38
        },
        {
          "output_type": "display_data",
          "data": {
            "image/png": "[encoded data removed]",
            "text/plain": [
              "<Figure size 432x288 with 1 Axes>"
            ]
          },
          "metadata": {
            "tags": [],
            "needs_background": "light"
          }
        }
      ]
    }
  ]
}